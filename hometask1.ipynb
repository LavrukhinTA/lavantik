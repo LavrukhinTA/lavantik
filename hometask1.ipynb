{
  "nbformat": 4,
  "nbformat_minor": 0,
  "metadata": {
    "kernelspec": {
      "display_name": "Python 3",
      "language": "python",
      "name": "python3"
    },
    "language_info": {
      "codemirror_mode": {
        "name": "ipython",
        "version": 3
      },
      "file_extension": ".py",
      "mimetype": "text/x-python",
      "name": "python",
      "nbconvert_exporter": "python",
      "pygments_lexer": "ipython3",
      "version": "3.7.6"
    },
    "colab": {
      "name": "hometask1.ipynb",
      "provenance": [],
      "collapsed_sections": [],
      "include_colab_link": true
    }
  },
  "cells": [
    {
      "cell_type": "markdown",
      "metadata": {
        "id": "view-in-github",
        "colab_type": "text"
      },
      "source": [
        "<a href=\"https://colab.research.google.com/github/LavrukhinTA/lavantik/blob/main/hometask1.ipynb\" target=\"_parent\"><img src=\"https://colab.research.google.com/assets/colab-badge.svg\" alt=\"Open In Colab\"/></a>"
      ]
    },
    {
      "cell_type": "code",
      "metadata": {
        "id": "_TLK5Mze8lZ8"
      },
      "source": [
        "class Test:\n",
        "    def assert_equals(a, b, *args, **kwargs):\n",
        "        assert a == b\n",
        "        print('Passed')"
      ],
      "execution_count": null,
      "outputs": []
    },
    {
      "cell_type": "code",
      "metadata": {
        "colab": {
          "base_uri": "https://localhost:8080/"
        },
        "id": "ore83RQf8laH",
        "outputId": "c2bc84b0-e765-4751-f3bb-6908c0c05ccb"
      },
      "source": [
        "def profit(i):\n",
        "    return round((i.get('sell_price') - i.get('cost_price')) * i.get('inventory'))\n",
        "\n",
        "#https://edabit.com/challenge/YfoKQWNeYETb9PYpw\n",
        "\n",
        "Test.assert_equals(profit({'cost_price': 32.67, 'sell_price': 45.00, 'inventory': 1200}), 14796)\n",
        "Test.assert_equals(profit({'cost_price': 0.1, 'sell_price': 0.18, 'inventory': 259800}), 20784)\n",
        "Test.assert_equals(profit({'cost_price': 185.00, 'sell_price': 299.99, 'inventory': 300}), 34497)\n",
        "Test.assert_equals(profit({'cost_price': 378.11, 'sell_price': 990.00, 'inventory': 99}), 60577)\n",
        "Test.assert_equals(profit({'cost_price': 4.67, 'sell_price': 5.00, 'inventory': 78000}), 25740)\n",
        "Test.assert_equals(profit({'cost_price': 19.87, 'sell_price': 110.00, 'inventory': 350}), 31546)\n",
        "Test.assert_equals(profit({'cost_price': 2.91, 'sell_price': 4.50, 'inventory': 6000}), 9540)\n",
        "Test.assert_equals(profit({'cost_price': 68.01, 'sell_price': 149.99, 'inventory': 500}), 40990)\n",
        "Test.assert_equals(profit({'cost_price': 1.45, 'sell_price': 8.50, 'inventory': 10000}), 70500)\n",
        "Test.assert_equals(profit({'cost_price': 10780, 'sell_price': 34999, 'inventory': 10}), 242190)"
      ],
      "execution_count": null,
      "outputs": [
        {
          "output_type": "stream",
          "text": [
            "Passed\n",
            "Passed\n",
            "Passed\n",
            "Passed\n",
            "Passed\n",
            "Passed\n",
            "Passed\n",
            "Passed\n",
            "Passed\n",
            "Passed\n"
          ],
          "name": "stdout"
        }
      ]
    },
    {
      "cell_type": "code",
      "metadata": {
        "colab": {
          "base_uri": "https://localhost:8080/"
        },
        "id": "BgtUJ9_O8laK",
        "outputId": "a0e25a64-f0c5-4892-ed36-b49b074f3022"
      },
      "source": [
        "def solutions(a, b, c):\n",
        "    n = 0\n",
        "    if (b*b)-(4*a*c)>0:\n",
        "        n = 2\n",
        "    if (b*b)-(4*a*c)==0:\n",
        "        n = 1\n",
        "    return n\n",
        "\n",
        "#https://edabit.com/challenge/o2AKq4xy3nfZabKXL\n",
        "\n",
        "Test.assert_equals(solutions(1, 0, -1), 2)\n",
        "Test.assert_equals(solutions(1, 0, 0), 1)\n",
        "Test.assert_equals(solutions(1, 0, 1), 0)\n",
        "Test.assert_equals(solutions(200, 420, 800), 0)\n",
        "Test.assert_equals(solutions(200, 420, -800), 2)\n",
        "Test.assert_equals(solutions(1000, 1000, 0), 2)\n",
        "Test.assert_equals(solutions(10000, 400, 4), 1)"
      ],
      "execution_count": null,
      "outputs": [
        {
          "output_type": "stream",
          "text": [
            "Passed\n",
            "Passed\n",
            "Passed\n",
            "Passed\n",
            "Passed\n",
            "Passed\n",
            "Passed\n"
          ],
          "name": "stdout"
        }
      ]
    },
    {
      "cell_type": "code",
      "metadata": {
        "colab": {
          "base_uri": "https://localhost:8080/"
        },
        "id": "s90QQqjk8laL",
        "outputId": "de3296eb-2826-4356-ca4b-e055800f958d"
      },
      "source": [
        "def number_length(n):\n",
        "    x = 0\n",
        "    if(n == 0):\n",
        "        x = 1\n",
        "    while(n != 0):\n",
        "        n = n // 10\n",
        "        x += 1\n",
        "    return x\n",
        "    \n",
        "#https://edabit.com/challenge/2zKetgAJp4WRFXiDT\n",
        "\n",
        "Test.assert_equals(number_length(10), 2)\n",
        "Test.assert_equals(number_length(5000), 4)\n",
        "Test.assert_equals(number_length(0), 1)\n",
        "Test.assert_equals(number_length(4039182), 7)\n",
        "Test.assert_equals(number_length(9999999999999999), 16)\n",
        "Test.assert_equals(number_length(1), 1)\n",
        "Test.assert_equals(number_length(777777777777777777777777777777), 30)"
      ],
      "execution_count": null,
      "outputs": [
        {
          "output_type": "stream",
          "text": [
            "Passed\n",
            "Passed\n",
            "Passed\n",
            "Passed\n",
            "Passed\n",
            "Passed\n",
            "Passed\n"
          ],
          "name": "stdout"
        }
      ]
    },
    {
      "cell_type": "code",
      "metadata": {
        "colab": {
          "base_uri": "https://localhost:8080/"
        },
        "id": "U57Emk5y8laM",
        "outputId": "df315c34-1c30-462b-c165-193d75f0fdfe"
      },
      "source": [
        "def quadratic_equation(a, b, c):\n",
        "    return (-b + (b*b - 4*a*c)**(1/2))/(2*a)\n",
        "\n",
        "#https://edabit.com/challenge/MDWFcHCTiJfHmwTFx\n",
        "\n",
        "Test.assert_equals(quadratic_equation(1, 2, -3), 1)\n",
        "Test.assert_equals(quadratic_equation(2, -7, 3), 3)\n",
        "Test.assert_equals(quadratic_equation(1, -12, -28), 14)"
      ],
      "execution_count": null,
      "outputs": [
        {
          "output_type": "stream",
          "text": [
            "Passed\n",
            "Passed\n",
            "Passed\n"
          ],
          "name": "stdout"
        }
      ]
    },
    {
      "cell_type": "code",
      "metadata": {
        "colab": {
          "base_uri": "https://localhost:8080/"
        },
        "id": "394dWCAI8laN",
        "outputId": "8d616fc2-b900-40fb-eae9-2412bed98cc2"
      },
      "source": [
        "def derivative(b, m):\n",
        "    return (b * (m ** (b-1)))\n",
        "\n",
        "#https://edabit.com/challenge/wZQzNPXkLrHMj4mmz\n",
        "\n",
        "Test.assert_equals(derivative(1, 4), 1)\n",
        "Test.assert_equals(derivative(3, -2), 12)\n",
        "Test.assert_equals(derivative(4, -3), -108)\n",
        "Test.assert_equals(derivative(9, -5), 3515625)\n",
        "Test.assert_equals(derivative(1254, 0), 0)\n",
        "Test.assert_equals(derivative(-2, 10), -0.002)"
      ],
      "execution_count": null,
      "outputs": [
        {
          "output_type": "stream",
          "text": [
            "Passed\n",
            "Passed\n",
            "Passed\n",
            "Passed\n",
            "Passed\n",
            "Passed\n"
          ],
          "name": "stdout"
        }
      ]
    }
  ]
}
